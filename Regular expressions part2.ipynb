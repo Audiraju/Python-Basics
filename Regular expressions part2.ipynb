{
 "cells": [
  {
   "cell_type": "markdown",
   "metadata": {},
   "source": [
    "# identifiers \n",
    "\\d any number\n",
    "\\D anything but a number\n",
    "\\s space\n",
    "\\S anything but a space\n",
    "\\w any character\n",
    "\\W anything but a character\n",
    ". any character, except for a newline\n",
    "\\b the whitespace around words\n",
    "\n",
    "# Modifiers : \n",
    "{1, 5} expecting 1- 5\n",
    "+ match 1 or more \n",
    "? Match 0 or 1\n",
    "* match 0 or more\n",
    "$ match the end of a string\n",
    "^ matching the beginning of a string\n",
    "| either or \n",
    "[] range of variance like [ 1-5a-zA-Z]\n",
    "{x} expecting \"x\" amount\n",
    "\n",
    "# White space Characters : \n",
    "\\n new line\n",
    "\\s space\n",
    "\\t tab\n",
    "\\e escape\n",
    "\\f form feed\n",
    "\\r return"
   ]
  },
  {
   "cell_type": "code",
   "execution_count": 18,
   "metadata": {},
   "outputs": [
    {
     "name": "stdout",
     "output_type": "stream",
     "text": [
      "['15', '45', '87', '40', '16', '14']\n",
      "['Mary', 'Stuart', 'Suzen', 'Gabrial', 'John', 'Lucy']\n",
      "{'Mary': '15', 'Stuart': '45', 'Suzen': '87', 'Gabrial': '40', 'John': '16', 'Lucy': '14'}\n"
     ]
    }
   ],
   "source": [
    "import re\n",
    "str ='''\n",
    "Mary is 15 years old and Stuart is '45 years old'\n",
    "Suzen is 87, and her son, Gabrial, is 40 now\n",
    "John is 16 and his sister Lucy is 14 now'''\n",
    "\n",
    "# find all the ages from the above string\n",
    "age_pattern = r'\\d[0-9]'\n",
    "ages = re.findall(age_pattern, str)\n",
    "print(ages)\n",
    "\n",
    "# find all the names from the above string\n",
    "# Expecting all the names first letter is Caps\n",
    "names_pattern = r'[A-Z][a-z]*'\n",
    "names = re.findall(names_pattern,str)\n",
    "print(names)\n",
    "\n",
    "data={}\n",
    "x = 0\n",
    "for name in names:\n",
    "    data[name] = ages[x]\n",
    "    x+=1\n",
    "print(data)"
   ]
  },
  {
   "cell_type": "code",
   "execution_count": 59,
   "metadata": {},
   "outputs": [
    {
     "name": "stdout",
     "output_type": "stream",
     "text": [
      "<re.Match object; span=(6, 8), match='is'>\n",
      "<re.Match object; span=(33, 35), match='is'>\n",
      "<re.Match object; span=(57, 59), match='is'>\n",
      "<re.Match object; span=(86, 88), match='is'>\n",
      "<re.Match object; span=(101, 103), match='is'>\n",
      "<re.Match object; span=(127, 129), match='is'>\n",
      "<re.Match object; span=(0, 4), match='this'>\n"
     ]
    }
   ],
   "source": [
    "#using the compile and finditer to find the keyword search from the string\n",
    "\n",
    "str ='''\n",
    "Mary is 15 years old and Stuart is '45 years old'\n",
    "Suzen is 87, and her son, Gabrial, is 40 now\n",
    "John is 16 and his sister Lucy is 14 now'''\n",
    "\n",
    "sentence = 'this is only a sentence to test'\n",
    "word_boundary = re.compile(r'\\bis') # Word boundary \n",
    "wbounday = word_boundary.finditer(str)\n",
    "\n",
    "for match1 in wbounday:\n",
    "   print(match1)\n",
    "    \n",
    "stg_beginning = re.compile(r'^this') # beginning of the sentence\n",
    "stbeginning = stg_beginning.finditer(sentence)\n",
    " \n",
    "for match2 in stbeginning:\n",
    "    print(match2)"
   ]
  },
  {
   "cell_type": "code",
   "execution_count": 26,
   "metadata": {},
   "outputs": [
    {
     "name": "stdout",
     "output_type": "stream",
     "text": [
      "123.456.890\n",
      "123.456.891\n",
      "123*456*892\n",
      "123-456-905\n",
      "123-456-906\n",
      "123-456-909\n",
      "123-456-910\n",
      "800-456-911\n",
      "800-456-912\n",
      "800.456.913\n",
      "800.456.928\n",
      "800-456-929\n",
      "900-123-456\n",
      "900.234.457\n",
      "900*234*461\n",
      "only 800 and 900 : 800-456-911\n",
      "only 800 and 900 : 800-456-912\n",
      "only 800 and 900 : 800.456.913\n",
      "only 800 and 900 : 800.456.928\n",
      "only 800 and 900 : 800-456-929\n",
      "only 800 and 900 : 900-123-456\n",
      "only 800 and 900 : 900.234.457\n",
      "only 800 and 900 : 900*234*461\n"
     ]
    }
   ],
   "source": [
    "# Identify the numbers in a specific pattern.\n",
    "import re\n",
    "\n",
    "with open('numbers.txt','r') as f:\n",
    "     contents = f.read()\n",
    "    \n",
    "# Find all numbers     \n",
    "pattern1 = re.compile(r'\\d\\d\\d[-*.]\\d\\d\\d[-*.]\\d\\d\\d')\n",
    "match1 = pattern1.finditer(contents)\n",
    "for m1 in match1:\n",
    "    print(m1.group())\n",
    "\n",
    "# find numbers only with 800\n",
    "pattern2 = re.compile(r'[89]00[-*.]\\d\\d\\d[-*.]\\d\\d\\d')\n",
    "match2 = pattern2.finditer(contents)\n",
    "for m2 in match2:\n",
    "    print('only 800 and 900 :', m2.group())\n",
    "    "
   ]
  },
  {
   "cell_type": "code",
   "execution_count": 11,
   "metadata": {},
   "outputs": [
    {
     "name": "stdout",
     "output_type": "stream",
     "text": [
      "\n",
      "Identify names with Mr.and display : \n",
      "\n",
      "<re.Match object; span=(0, 20), match='Mr.Shiju Abdulhameed'>\n",
      "<re.Match object; span=(35, 51), match='Mr.Sanjeev Mehta'>\n",
      "<re.Match object; span=(1419, 1437), match='Mr.Harikrishnan.LG'>\n",
      "<re.Match object; span=(1438, 1456), match='Mr.Francis Leoncio'>\n",
      "<re.Match object; span=(1457, 1470), match='Mr.Kheng Tat '>\n",
      "<re.Match object; span=(1474, 1491), match='Mr.Baiju Chandran'>\n",
      "<re.Match object; span=(1492, 1507), match='Mr.Sarath Kumar'>\n",
      "\n",
      "Identify names with Mrs.and display : \n",
      "\n",
      "<re.Match object; span=(21, 34), match='Mrs.Pooja Lal'>\n",
      "<re.Match object; span=(1402, 1418), match='Mrs.Archana Hari'>\n",
      "\n",
      "Identify names with specific char : \n",
      "\n",
      "Mr. Tripta\n",
      "Mr. Trang\n",
      "Mrs. Tripta\n"
     ]
    }
   ],
   "source": [
    "#find the names from the list \n",
    "import re\n",
    "with open('names.txt','r') as f:\n",
    "    contents = f.read()\n",
    "\n",
    "# Find all with Mr.\n",
    "mpattern = re.compile(r'Mr\\.[a-zA-Z]+.[a-zA-Z]+.')\n",
    "male_match = mpattern.finditer(contents)\n",
    "\n",
    "print ('\\nIdentify names with Mr.and display : \\n')\n",
    "for males in male_match:\n",
    "    print(males)\n",
    "\n",
    "fpattern = re.compile(r'Mrs\\.[a-zA-Z]+.[a-zA-Z]+.')\n",
    "female_match = fpattern.finditer(contents)\n",
    "\n",
    "print ('\\nIdentify names with Mrs.and display : \\n')\n",
    "for female in female_match:\n",
    "    print(female)\n",
    "    \n",
    "print ('\\nIdentify names with specific char : \\n')\n",
    "# identify only names starting with specific character.\n",
    "spattern = re.compile(r'M(r|s|rs)\\.?\\s[T]\\w*')\n",
    "smatch = spattern.finditer(contents)\n",
    "for smth in smatch:\n",
    "        print(smth.group())\n",
    "                      \n",
    "                "
   ]
  },
  {
   "cell_type": "code",
   "execution_count": 33,
   "metadata": {},
   "outputs": [
    {
     "name": "stdout",
     "output_type": "stream",
     "text": [
      "<re.Match object; span=(61, 74), match='ta@tizity.com'>\n",
      "<re.Match object; span=(243, 260), match='tarama@tizity.edu'>\n",
      "<re.Match object; span=(295, 308), match='ta@tizity.edu'>\n",
      "<re.Match object; span=(736, 753), match='thicck@tizity.net'>\n",
      "<re.Match object; span=(950, 966), match='tlana@tizity.com'>\n",
      "<re.Match object; span=(1052, 1067), match='tini@tizity.com'>\n",
      "<re.Match object; span=(1080, 1094), match='thi@tizity.com'>\n",
      "<re.Match object; span=(1166, 1183), match='thicck@tizity.com'>\n",
      "<re.Match object; span=(1395, 1408), match='th@tizity.com'>\n",
      "<re.Match object; span=(1428, 1441), match='th@tizity.com'>\n",
      "\n",
      " Print only website names from email list : \n",
      "\n",
      "tizity.com\n",
      "tizity.com\n",
      "tizity.com\n",
      "tizity.com\n",
      "tizity.com\n",
      "tizity.com\n",
      "tizity.com\n",
      "tizity.com\n",
      "tizity.edu\n",
      "tizity.edu\n",
      "tizity.edu\n",
      "tizity.edu\n",
      "tizity.edu\n",
      "tizity.edu\n",
      "tizity.edu\n",
      "tizity.edu\n",
      "tizity.edu\n",
      "tizity.net\n",
      "tizity.net\n",
      "tizity.net\n",
      "tizity.net\n",
      "tizity.net\n",
      "tizity.net\n",
      "tizity.net\n",
      "tizity.net\n",
      "tizity.com\n",
      "tizity.com\n",
      "tizity.com\n",
      "tizity.com\n",
      "tizity.com\n",
      "tizity.com\n",
      "tizity.com\n",
      "tizity.com\n",
      "tizity.com\n",
      "tizity.com\n",
      "tizity.com\n",
      "tizity.com\n",
      "tizity.com\n",
      "tizity.com\n",
      "tizity.com\n",
      "tizity.com\n",
      "tizity.com\n",
      "tizity.com\n",
      "tizity.com\n",
      "tizity.com\n",
      "tizity.com\n"
     ]
    }
   ],
   "source": [
    "# get the email ids from the list \n",
    "import re\n",
    "\n",
    "with open('emails.txt','r') as f:\n",
    "    contents = f.read()\n",
    "\n",
    "# Identify specific email id starting with selected char\n",
    "    pattern = re.compile(r't[a-zA-Z0-9]+@[a-zA-Z0-9]+\\.(com|edu|net)')\n",
    "    ematch = pattern.finditer(contents)\n",
    "    \n",
    "    for mails in ematch:\n",
    "        print(mails)\n",
    "\n",
    "# get only the website names \n",
    "    webpattern = re.compile(r'[a-zA-Z0-9]+\\.(com|edu|net)')\n",
    "    wmatch = webpattern.finditer(contents)\n",
    "    print('\\n Print only website names from email list : \\n')\n",
    "    for web in wmatch:\n",
    "        print(web.group())"
   ]
  },
  {
   "cell_type": "code",
   "execution_count": 47,
   "metadata": {},
   "outputs": [
    {
     "name": "stdout",
     "output_type": "stream",
     "text": [
      "https://www.google.com\n",
      "https://www.yahoo.net\n",
      "https://www.rediff.in\n",
      "https://www.cnn.edu\n",
      "https://www.bbc.org\n",
      "https://www.baidu.com\n",
      "https://www.att.com\n"
     ]
    }
   ],
   "source": [
    "# get the website urls from the list \n",
    "\n",
    "str='''\n",
    "https://www.google.com\n",
    "https://www.yahoo.net\n",
    "https://www.rediff.in\n",
    "https://www.cnn.edu\n",
    "https://www.bbc.org\n",
    "https://www.baidu.com\n",
    "https://www.att.com\n",
    "'''\n",
    "\n",
    "pattern = re.compile(r'https?://(www\\.)?\\w+\\.(com|net|in|edu|org)')\n",
    "urlmatch = pattern.finditer(str)\n",
    "\n",
    "for url in urlmatch:\n",
    "    print(url.group(0))"
   ]
  },
  {
   "cell_type": "code",
   "execution_count": 58,
   "metadata": {},
   "outputs": [
    {
     "name": "stdout",
     "output_type": "stream",
     "text": [
      "\n",
      "google.com\n",
      "yahoo.net\n",
      "rediff.in\n",
      "cnn.edu\n",
      "bbc.org\n",
      "baidu.com\n",
      "att.com\n",
      "\n"
     ]
    }
   ],
   "source": [
    "# get the website urls from the list using the sub \n",
    "\n",
    "str='''\n",
    "https://www.google.com\n",
    "https://www.yahoo.net\n",
    "https://www.rediff.in\n",
    "https://www.cnn.edu\n",
    "https://www.bbc.org\n",
    "https://www.baidu.com\n",
    "https://www.att.com\n",
    "'''\n",
    "\n",
    "pattern = re.compile(r'https?://(www\\.)?(\\w+)(\\.\\w+)')\n",
    "suburl = pattern.sub(r'\\2\\3',str )\n",
    "\n",
    "print(suburl)"
   ]
  },
  {
   "cell_type": "code",
   "execution_count": null,
   "metadata": {},
   "outputs": [],
   "source": []
  }
 ],
 "metadata": {
  "kernelspec": {
   "display_name": "Python 3",
   "language": "python",
   "name": "python3"
  },
  "language_info": {
   "codemirror_mode": {
    "name": "ipython",
    "version": 3
   },
   "file_extension": ".py",
   "mimetype": "text/x-python",
   "name": "python",
   "nbconvert_exporter": "python",
   "pygments_lexer": "ipython3",
   "version": "3.7.3"
  }
 },
 "nbformat": 4,
 "nbformat_minor": 2
}
