{
 "cells": [
  {
   "cell_type": "code",
   "execution_count": null,
   "metadata": {},
   "outputs": [],
   "source": [
    "# '.' represent a single occurance of a character except newline\n",
    "# '?' The preceding character is optional \n",
    "# '^' specifies that the match must start at the beginning of the string\n",
    "# $ specifies that the match occur at the end of the string\n",
    "# [] matches one out the all characters within the brackets\n",
    "# [^..] Matches any one character except those not in the brackets\n",
    "# '*' the preceeding character is repeated zero or more times\n",
    "# '+' the preceeding character is repeated at least once\n",
    "# {} the preceeding charater is repeated as many times mentioned in the braces\n"
   ]
  },
  {
   "cell_type": "code",
   "execution_count": 1,
   "metadata": {},
   "outputs": [
    {
     "name": "stdout",
     "output_type": "stream",
     "text": [
      "['bed']\n"
     ]
    }
   ],
   "source": [
    "import re\n",
    "str =\"hi this is bed\"\n",
    "pattern = 'bed'\n",
    "\n",
    "match = re.findall(pattern,str)\n",
    "print(match)"
   ]
  },
  {
   "cell_type": "code",
   "execution_count": 15,
   "metadata": {},
   "outputs": [
    {
     "name": "stdout",
     "output_type": "stream",
     "text": [
      "['the price of house is ', ' Million and ', ' thousand ']\n"
     ]
    }
   ],
   "source": [
    "# finding only the characters from the sentence and avoid the numbers \n",
    "\n",
    "str ='the price of house is 1 Million and 20 thousand $'\n",
    "pattern = r'[ a-zA-z]+'\n",
    "atch = re.findall(pattern, str)\n",
    "print(match)"
   ]
  },
  {
   "cell_type": "code",
   "execution_count": 18,
   "metadata": {},
   "outputs": [
    {
     "name": "stdout",
     "output_type": "stream",
     "text": [
      "[' ', ' ', ' ', ' ', ' 1 ', ' ', ' 20 ', ' ']\n"
     ]
    }
   ],
   "source": [
    "# findindg only the numbers form the sentence.\n",
    "str ='the price of house is 1 Million and 20 thousand $'\n",
    "pattern = r'[ 0-9]+'\n",
    "match = re.findall(pattern, str)\n",
    "print(match)"
   ]
  },
  {
   "cell_type": "code",
   "execution_count": 2,
   "metadata": {},
   "outputs": [
    {
     "name": "stdout",
     "output_type": "stream",
     "text": [
      "['the price of house is 1 Million and 20 thousand ']\n",
      "['the', ' price', ' of', ' house', ' is', ' 1', ' Million', ' and', ' 20', ' thousand', ' $']\n",
      "['e ', 'e ', 'f ', 'e ', 's ', '1 ', 'n ', 'd ', '0 ', 'd ']\n"
     ]
    }
   ],
   "source": [
    "# another way to do this is to use '.', '^' and space \n",
    "str ='the price of house is 1 Million and 20 thousand $'\n",
    "pattern1 = r'[ a-zA-Z0-9]+'# the whole string except the $ special characters\n",
    "pattern2 = r'.[^ ]+' # all the words in the string\n",
    "pattern3 = r'.[ ^]+' # all the last characters of the words\n",
    "match1 = re.findall(pattern1, str)\n",
    "match2 = re.findall(pattern2, str) # observe the space in the front\n",
    "match3 = re.findall(pattern3, str) # observe the space in the last\n",
    "print(match1)\n",
    "print(match2)\n",
    "print(match3)\n"
   ]
  },
  {
   "cell_type": "code",
   "execution_count": 3,
   "metadata": {},
   "outputs": [
    {
     "name": "stdout",
     "output_type": "stream",
     "text": [
      "This is for *s Pattern 1 \n",
      "\n",
      "maths\n",
      "physics\n",
      "chemis\n",
      "Englis\n",
      "computers\n",
      "his\n",
      "cherres\n",
      "\n",
      "This is for auiou Pattern 2 \n",
      "\n",
      "English\n",
      "apple\n",
      "orange\n",
      "avacado\n"
     ]
    }
   ],
   "source": [
    "# working with regular expressions\n",
    "import re\n",
    "\n",
    "str = '''\n",
    "maths\n",
    "physics\n",
    "chemistry\n",
    "biology\n",
    "English\n",
    "Science\n",
    "Social\n",
    "computers\n",
    "history\n",
    "apple\n",
    "bananna\n",
    "orange\n",
    "avacado\n",
    "cherres\n",
    "'''\n",
    "pattern1 = r'.*s' \n",
    "pattern2 = r'\\b[aeiouAEIOU].+\\b'\n",
    "match1 = re.findall(pattern1, str)\n",
    "match2 = re.findall(pattern2, str)\n",
    "\n",
    "print('This is for *s Pattern 1 \\n')\n",
    "for m in match1:\n",
    "    print(m)\n",
    "\n",
    "print('\\nThis is for auiou Pattern 2 \\n')\n",
    "for n in match2:\n",
    "    print(n)\n",
    "    "
   ]
  },
  {
   "cell_type": "code",
   "execution_count": 4,
   "metadata": {},
   "outputs": [
    {
     "name": "stdout",
     "output_type": "stream",
     "text": [
      "searching the words:\n",
      " ['shiju', 'ah', 'tyniti', 'com', 'Pooja', 'Lal', 'tyniti', 'com', 'Sanjeev', 'Mehta', 'tyniti', 'com', 'Ann', 'Lee', 'tyniti', 'com', 'Siva', 'Krish', 'tyniti', 'com', 'Srinivas', 'MadiReddy', 'tyniti', 'com', 'Jigghna', 'Bhuptani', 'tyniti', 'com', 'Eldrige', 'Joseph', 'tyniti', 'com', 'Alex', 'Gibbons', 'tyniti', 'com', 'Smitarama', 'Sanyal', 'tyniti', 'com', 'rama', 'adiraju', 'tyniti', 'in']\n",
      "\n",
      "mathing the emails :\n",
      " ['ah@tyniti.com', 'Lal@tyniti.com', 'Mehta@tyniti.com', 'Lee@tyniti.com', 'Krish@tyniti.com', 'MadiReddy@tyniti.com', 'Bhuptani@tyniti.com', 'Joseph@tyniti.com', 'Gibbons@tyniti.com', 'Sanyal@tyniti.com']\n",
      "\n",
      "mathing the full email address with .com:\n",
      " ['shiju.ah@tyniti.com', 'Pooja.Lal@tyniti.com', 'Sanjeev.Mehta@tyniti.com', 'Ann.Lee@tyniti.com', 'Siva.Krish@tyniti.com', 'Srinivas.MadiReddy@tyniti.com', 'Jigghna.Bhuptani@tyniti.com', 'Eldrige.Joseph@tyniti.com', 'Alex.Gibbons@tyniti.com', 'Smitarama.Sanyal@tyniti.com']\n",
      "\n",
      "mathing the full email address with .in :\n",
      " ['rama.adiraju@tyniti.in']\n"
     ]
    }
   ],
   "source": [
    "# get the email details from the list of sentenses\n",
    "\n",
    "str ='''\n",
    "<shiju.ah@tyniti.com>,\n",
    "<Pooja.Lal@tyniti.com>,\n",
    "<Sanjeev.Mehta@tyniti.com>,\n",
    "<Ann.Lee@tyniti.com>,\n",
    "<Siva.Krish@tyniti.com>,\n",
    "<Srinivas.MadiReddy@tyniti.com>,\n",
    "<Jigghna.Bhuptani@tyniti.com>,\n",
    "<Eldrige.Joseph@tyniti.com>,\n",
    "<Alex.Gibbons@tyniti.com>,\n",
    "<Smitarama.Sanyal@tyniti.com>\n",
    "<rama.adiraju@tyniti.in>,\n",
    "''' \n",
    "pattern1 = r'[ a-zA-Z]+'\n",
    "match_words = re.findall(pattern1, str)\n",
    "print('searching the words:\\n', match_words)\n",
    "\n",
    "\n",
    "# emails with names  \n",
    "pattern2 = r'[a-z+[A-Z]+[0-9]*[a-z]@+[a-z]+\\.com'\n",
    "match_emails = re.findall(pattern2, str)\n",
    "print('\\nmathing the emails :\\n', match_emails)\n",
    "\n",
    "# emails with names sepearted with'.'before .com\n",
    "pattern3 = r'[ a-zA-Z]+.+@+[a-z]+\\.com'\n",
    "match_commails = re.findall(pattern3, str)\n",
    "print('\\nmathing the full email address with .com:\\n', match_commails)\n",
    "\n",
    "# emails with names sepearted with'.'before .in\n",
    "pattern4 = r'[ a-zA-Z]+.+@+[a-z]+\\.in'\n",
    "match_inmails = re.findall(pattern4, str)\n",
    "print('\\nmathing the full email address with .in :\\n', match_inmails)\n",
    "\n"
   ]
  },
  {
   "cell_type": "code",
   "execution_count": 93,
   "metadata": {},
   "outputs": [
    {
     "name": "stdout",
     "output_type": "stream",
     "text": [
      " bought a new  BMW at a price of 100000.00 $ from old \n",
      "1000\n",
      "100000.00\n"
     ]
    }
   ],
   "source": [
    "# working with Sub string\n",
    "# Example if you want to hide all words that starts with Captial letters, or hide person  names  \n",
    "\n",
    "str = 'Edward bought a new Car BMW at a price of 100000.00 $ from old Town' \n",
    "pattern1 = r'\\b[A-Z]+[a-z]+\\b'\n",
    "nstr1 = re.sub(pattern1,\"\",str)\n",
    "print(nstr1)\n",
    "\n",
    "# finding the number with specific digits only\n",
    "pattern2 = r'\\d\\d\\d\\d'\n",
    "digits = re.search(pattern2,str)\n",
    "print(digits.group())\n",
    "\n",
    "# finding the whole number from the string including the decimals\n",
    "pattern3 = r'[0-9]+\\.+[0-9]+'\n",
    "digits = re.search(pattern3,str)\n",
    "print(digits.group())\n"
   ]
  },
  {
   "cell_type": "code",
   "execution_count": 25,
   "metadata": {},
   "outputs": [
    {
     "name": "stdout",
     "output_type": "stream",
     "text": [
      "BMW\n"
     ]
    }
   ],
   "source": [
    "# working with search string \n",
    "#Regular expression is a set of characters, called as the pattern, which helps in finding substrings in a given string. \n",
    "#The pattern is used to detect the substrings\n",
    "\n",
    "import re\n",
    "match = re.search('BMW','BMW is one of the best rated cars in performance')\n",
    "print(match.group())"
   ]
  },
  {
   "cell_type": "code",
   "execution_count": 58,
   "metadata": {},
   "outputs": [
    {
     "name": "stdout",
     "output_type": "stream",
     "text": [
      "Maching anything exactly matches :  iig\n",
      "Matching the digit :  123\n",
      "Matching the char : abc\n"
     ]
    }
   ],
   "source": [
    "  ## Search for pattern 'iii' in string 'spriiig'.\n",
    "  ## All of the pattern must match, but it may appear anywhere.\n",
    "  ## On success, match.group() is matched text.\n",
    " # match = re.search(r'iii', 'spriiig') # found, match.group() == \"iii\"\n",
    " # print(match.group())\n",
    " # match = re.search(r'igs', 'sprpiiig') # not found, match == None\n",
    "  ## . = any char but \\n\n",
    "  match = re.search(r'..g', 'sprpiiig') # found, match.group() == \"iig\"\n",
    "  print('Maching anything exactly matches : ', match.group())\n",
    "  ## \\d = digit char, \\w = word char\n",
    "  match_digit = re.search(r'\\d\\d\\d', 'p123g') # found, match.group() == \"123\"\n",
    "  print('Matching the digit : ', match_digit.group())  \n",
    "  match_char = re.search(r'\\w\\w\\w', '@@abcd!!') # found, match.group() == \"abc\"\n",
    "  print('Matching the char :', match_char.group())  "
   ]
  },
  {
   "cell_type": "code",
   "execution_count": null,
   "metadata": {},
   "outputs": [],
   "source": [
    "#Repetitions Example \n",
    "## i+ = one or more i's, as many as possible.\n",
    "  match = re.search(r'pi+', 'piiig') # found, match.group() == \"piii\"\n",
    "\n",
    "  ## Finds the first/leftmost solution, and within it drives the +\n",
    "  ## as far as possible (aka 'leftmost and largest').\n",
    "  ## In this example, note that it does not get to the second set of i's.\n",
    "  match = re.search(r'i+', 'piigiiii') # found, match.group() == \"ii\"\n",
    "\n",
    "  ## \\s* = zero or more whitespace chars\n",
    "  ## Here look for 3 digits, possibly separated by whitespace.\n",
    "  match = re.search(r'\\d\\s*\\d\\s*\\d', 'xx1 2   3xx') # found, match.group() == \"1 2   3\"\n",
    "  match = re.search(r'\\d\\s*\\d\\s*\\d', 'xx12  3xx') # found, match.group() == \"12  3\"\n",
    "  match = re.search(r'\\d\\s*\\d\\s*\\d', 'xx123xx') # found, match.group() == \"123\"\n",
    "\n",
    "  ## ^ = matches the start of string, so this fails:\n",
    "  match = re.search(r'^b\\w+', 'foobar') # not found, match == None\n",
    "  ## but without the ^ it succeeds:\n",
    "  match = re.search(r'b\\w+', 'foobar') # found, match.group() == \"bar\""
   ]
  },
  {
   "cell_type": "code",
   "execution_count": 20,
   "metadata": {},
   "outputs": [
    {
     "name": "stdout",
     "output_type": "stream",
     "text": [
      "pii\n"
     ]
    }
   ],
   "source": [
    "## i+ = one or more i's, as many as possible.\n",
    "match = re.search(r'pi+', 'piing')\n",
    "print(match.group())"
   ]
  },
  {
   "cell_type": "code",
   "execution_count": 55,
   "metadata": {},
   "outputs": [
    {
     "name": "stdout",
     "output_type": "stream",
     "text": [
      "b@google\n",
      "ramachandra24@gmail.com\n",
      "None\n",
      "<re.Match object; span=(0, 1), match='J'>\n",
      "<re.Match object; span=(0, 1), match='r'>\n"
     ]
    }
   ],
   "source": [
    "# Email example\n",
    "# Suppose you want to find the email address inside the string 'xyz alice-b@google.com purple monkey'. \n",
    "#We'll use this as a running example to demonstrate more regular expression features. \n",
    "# Here's an attempt using the pattern r'\\w+@\\w+':\n",
    "\n",
    "str = 'purple alice-b@google.com monkey dishwasher'\n",
    "match = re.search(r'\\w+@\\w+', str)\n",
    "if match:\n",
    "    print(match.group())\n",
    "    \n",
    "str1 ='mail id of ramachandra is ramachandra24@gmail.com and another email id is rama@edatainsights.com find the same'\n",
    "match1 = re.search(r'[\\w.-]+@[\\w.-]+', str1)\n",
    "print(match1.group())\n",
    "print(re.search(\"rama\", \"^r\"))\n",
    "print(re.search(\"^J\", \"James\"))\n",
    "print(re.search('.', \"r\"))"
   ]
  },
  {
   "cell_type": "code",
   "execution_count": 35,
   "metadata": {},
   "outputs": [
    {
     "name": "stdout",
     "output_type": "stream",
     "text": [
      "alice-b@google.com\n"
     ]
    }
   ],
   "source": [
    "# square Brackets \n",
    "# For the emails problem, the square brackets are an easy way to add '.' and\n",
    "#'-' to the set of chars which can appear around the @ with the pattern r'[\\w.-]+@[\\w.-]+' \n",
    "#to get the whole email address:\n",
    "str = 'purple alice-b@google.com monkey dishwasher'\n",
    "match = re.search(r'[\\w.-]+@[\\w.-]+', str)\n",
    "if match:\n",
    "    print (match.group())   "
   ]
  },
  {
   "cell_type": "code",
   "execution_count": 6,
   "metadata": {},
   "outputs": [
    {
     "name": "stdout",
     "output_type": "stream",
     "text": [
      "['ram']\n"
     ]
    }
   ],
   "source": [
    "import re\n",
    "str =\"hi this is ram\"\n",
    "pattern = 'ram'\n",
    "\n",
    "match = re.findall(pattern,str)\n",
    "print(match)"
   ]
  },
  {
   "cell_type": "code",
   "execution_count": null,
   "metadata": {},
   "outputs": [],
   "source": []
  }
 ],
 "metadata": {
  "kernelspec": {
   "display_name": "Python 3",
   "language": "python",
   "name": "python3"
  },
  "language_info": {
   "codemirror_mode": {
    "name": "ipython",
    "version": 3
   },
   "file_extension": ".py",
   "mimetype": "text/x-python",
   "name": "python",
   "nbconvert_exporter": "python",
   "pygments_lexer": "ipython3",
   "version": "3.7.3"
  }
 },
 "nbformat": 4,
 "nbformat_minor": 2
}
